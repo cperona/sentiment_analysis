{
 "cells": [
  {
   "cell_type": "code",
   "execution_count": 1,
   "metadata": {},
   "source": [
    "from torch import nn\n",
    "from torch.autograd import Variable"
   ],
   "outputs": []
  },
  {
   "cell_type": "code",
   "execution_count": 2,
   "metadata": {},
   "source": [
    "import torch\n",
    "from transformers import pipeline, AutoTokenizer, AutoModelForCausalLM\n",
    "\n",
    "input_text = \"El mercat del barri és fantàstic, hi pots trobar\"\n",
    "\n",
    "model_id  = \"projecte-aina/aguila-7b\"\n",
    "tokenizer = AutoTokenizer.from_pretrained(model_id)\n",
    "\n",
    "tokenizer(input_text)"
   ],
   "outputs": []
  },
  {
   "cell_type": "code",
   "execution_count": 3,
   "metadata": {},
   "source": [
    "class CustomLSTM(nn.Module):\n",
    "    def __init__(self, vocab_size, embedding_dim, hidden_dim, target_size, batch_size):\n",
    "        super(CustomLSTM, self).__init__()\n",
    "\n",
    "        self.emdeddings = nn.Embedding(vocab_size, embedding_dim)\n",
    "        self.lstm = nn.LSTM(input_size=embedding_dim, hidden_size=hidden_dim, num_layers=256, bidirectional=True)\n",
    "        self.lastlayer = nn.Linear(hidden_dim, target_size)\n",
    "        self.hidden = (Variable(torch.zeros(1, batch_size, hidden_dim)),\n",
    "                       Variable(torch.zeros(1, batch_size, hidden_dim)))\n",
    "        \n",
    "    def forward(self, sentence):\n",
    "        x = self.emdeddings(sentence)\n",
    "        yt, ht = self.lstm(x, self.hidden)\n",
    "\n",
    "        #dropout\n",
    "        logits = self.lastlayer(yt[-1])\n",
    "        logits = logits[:,-1]\n",
    "        return logits, ht\n",
    "        \n",
    "model = CustomLSTM(12000, 1024, 1024, 2, batch_size=100)"
   ],
   "outputs": []
  }
 ],
 "metadata": {
  "kernelspec": {
   "display_name": "Python 3",
   "language": "python",
   "name": "python3"
  },
  "language_info": {
   "codemirror_mode": {
    "name": "ipython",
    "version": 3
   },
   "file_extension": ".py",
   "mimetype": "text/x-python",
   "name": "python",
   "nbconvert_exporter": "python",
   "pygments_lexer": "ipython3",
   "version": "3.12.3"
  }
 },
 "nbformat": 4,
 "nbformat_minor": 2
}
