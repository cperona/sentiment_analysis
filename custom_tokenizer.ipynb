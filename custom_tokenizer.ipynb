{
 "cells": [
  {
   "cell_type": "code",
   "execution_count": 9,
   "metadata": {},
   "outputs": [],
   "source": [
    "def str_to_ascii(string):\n",
    "    return list(text.encode('ascii'))\n",
    "\n",
    "def most_frequent(List):\n",
    "    return max(set(List), key = List.count)\n",
    "#list: list containing ascii values\n",
    "#most_freq: most frequent value on the list\n",
    "def tokenize(list, most_freq):\n",
    "    list.re"
   ]
  },
  {
   "cell_type": "code",
   "execution_count": 11,
   "metadata": {},
   "outputs": [
    {
     "name": "stdout",
     "output_type": "stream",
     "text": [
      "[72, 101, 108, 108, 111]\n"
     ]
    }
   ],
   "source": [
    "text = \"Hello\"\n",
    "#To ascii\n",
    "text_ascii = str_to_ascii(text)\n",
    "#Get the frequent value\n",
    "most_freq = most_frequent(text_ascii)\n",
    "#Replace the most frequent value with a token value\n",
    "tokenize = tokenize(text_ascii, most_freq)"
   ]
  }
 ],
 "metadata": {
  "kernelspec": {
   "display_name": "Python 3",
   "language": "python",
   "name": "python3"
  },
  "language_info": {
   "codemirror_mode": {
    "name": "ipython",
    "version": 3
   },
   "file_extension": ".py",
   "mimetype": "text/x-python",
   "name": "python",
   "nbconvert_exporter": "python",
   "pygments_lexer": "ipython3",
   "version": "3.10.12"
  }
 },
 "nbformat": 4,
 "nbformat_minor": 2
}
